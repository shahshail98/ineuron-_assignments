{
 "cells": [
  {
   "cell_type": "code",
   "execution_count": 5,
   "id": "0106e29b",
   "metadata": {},
   "outputs": [
    {
     "name": "stdout",
     "output_type": "stream",
     "text": [
      "0\n"
     ]
    }
   ],
   "source": [
    "# 1.\tPython Program for Find reminder of array multiplication divided by n\n",
    "def findremainder(arr, lens, n):\n",
    "   mul = 1\n",
    "   # find the individual remainder\n",
    "   for i in range(lens):\n",
    "      mul = (mul * (arr[i] % n)) % n\n",
    "   return mul % n\n",
    "# Driven code\n",
    "arr = [100,1,2,3,400,5,6,6,77,65,1,11]\n",
    "lens = len(arr)\n",
    "n = 11\n",
    "print( findremainder(arr, lens, n))"
   ]
  },
  {
   "cell_type": "code",
   "execution_count": 6,
   "id": "06566bc4",
   "metadata": {},
   "outputs": [
    {
     "name": "stdout",
     "output_type": "stream",
     "text": [
      "True\n"
     ]
    }
   ],
   "source": [
    "# 2.\tPython Program to check if given array is Monotonic\n",
    "def isMonotonic(A):\n",
    "  \n",
    "    return (all(A[i] <= A[i + 1] for i in range(len(A) - 1)) or\n",
    "            all(A[i] >= A[i + 1] for i in range(len(A) - 1)))\n",
    "  \n",
    "# Driver program\n",
    "A = [6, 5, 4, 4]\n",
    "  \n",
    "# Print required result\n",
    "print(isMonotonic(A))\n"
   ]
  },
  {
   "cell_type": "code",
   "execution_count": 7,
   "id": "45112b35",
   "metadata": {},
   "outputs": [
    {
     "name": "stdout",
     "output_type": "stream",
     "text": [
      "[24, 35, 9, 56, 12]\n"
     ]
    }
   ],
   "source": [
    "# 3.\tPython program to interchange first and last elements in a list\n",
    "def swapList(newList):\n",
    "    size = len(newList)\n",
    "     \n",
    "    # Swapping\n",
    "    temp = newList[0]\n",
    "    newList[0] = newList[size - 1]\n",
    "    newList[size - 1] = temp\n",
    "     \n",
    "    return newList\n",
    "     \n",
    "# Driver code\n",
    "newList = [12, 35, 9, 56, 24]\n",
    " \n",
    "print(swapList(newList))"
   ]
  },
  {
   "cell_type": "code",
   "execution_count": 8,
   "id": "fd285422",
   "metadata": {},
   "outputs": [
    {
     "name": "stdout",
     "output_type": "stream",
     "text": [
      "[19, 65, 23, 90]\n"
     ]
    }
   ],
   "source": [
    "# 4.\tPython program to swap two elements in a list\n",
    "def swapPositions(list, pos1, pos2):\n",
    "     \n",
    "    list[pos1], list[pos2] = list[pos2], list[pos1]\n",
    "    return list\n",
    " \n",
    "# Driver function\n",
    "List = [23, 65, 19, 90]\n",
    "pos1, pos2  = 1, 3\n",
    " \n",
    "print(swapPositions(List, pos1-1, pos2-1))"
   ]
  },
  {
   "cell_type": "code",
   "execution_count": 9,
   "id": "d1454ab0",
   "metadata": {},
   "outputs": [
    {
     "name": "stdout",
     "output_type": "stream",
     "text": [
      "The list is : [1, 4, 5, 7, 8]\n",
      "Length of list using naive method is : 5\n"
     ]
    }
   ],
   "source": [
    "# 5.\twrite a program to find length of list\n",
    "test_list = [ 1, 4, 5, 7, 8 ]\n",
    " \n",
    "# Printing test_list\n",
    "print (\"The list is : \" + str(test_list))\n",
    " \n",
    "# Finding length of list\n",
    "# using loop\n",
    "# Initializing counter\n",
    "counter = 0\n",
    "for i in test_list:\n",
    "     \n",
    "    # incrementing counter\n",
    "    counter = counter + 1\n",
    " \n",
    "# Printing length of list\n",
    "print (\"Length of list using naive method is : \" + str(counter))"
   ]
  },
  {
   "cell_type": "code",
   "execution_count": 1,
   "id": "1e106666",
   "metadata": {},
   "outputs": [
    {
     "name": "stdout",
     "output_type": "stream",
     "text": [
      "True \n",
      " False\n"
     ]
    }
   ],
   "source": [
    "# write a program to find element exits in a  list\n",
    "ini_list = [[1, 2, 5, 10, 7],\n",
    "            [4, 3, 4, 3, 21],\n",
    "            [45, 65, 8, 8, 9, 9]]\n",
    "  \n",
    "elem_to_find = 8\n",
    "elem_to_find1 = 0\n",
    "  \n",
    "# element exists in listof listor not?\n",
    "res1 = any(elem_to_find in sublist for sublist in ini_list)\n",
    "res2 = any(elem_to_find1 in sublist for sublist in ini_list)\n",
    "  \n",
    "# printing result\n",
    "print(str(res1), \"\\n\", str(res2))\n"
   ]
  },
  {
   "cell_type": "code",
   "execution_count": 3,
   "id": "9c1613d9",
   "metadata": {},
   "outputs": [
    {
     "name": "stdout",
     "output_type": "stream",
     "text": [
      "Existing list\n",
      " ['Mon', 'Tue', 'Wed', 'Thu']\n",
      "After clearing the list\n",
      "\n",
      "[]\n"
     ]
    }
   ],
   "source": [
    "# write a program to clear a list in python\n",
    "list = ['Mon', 'Tue', 'Wed', 'Thu']\n",
    "print(\"Existing list\\n\",list)\n",
    "#clear the list\n",
    "list.clear()\n",
    "print(\"After clearing the list\\n\")\n",
    "print(list)"
   ]
  },
  {
   "cell_type": "code",
   "execution_count": 5,
   "id": "9b864f15",
   "metadata": {},
   "outputs": [
    {
     "name": "stdout",
     "output_type": "stream",
     "text": [
      "[15, 14, 13, 12, 11, 10]\n"
     ]
    }
   ],
   "source": [
    "# write a program to reverse a list\n",
    "def Reverse(lst):\n",
    "    lst.reverse()\n",
    "    return lst\n",
    "      \n",
    "lst = [10, 11, 12, 13, 14, 15]\n",
    "print(Reverse(lst))"
   ]
  },
  {
   "cell_type": "code",
   "execution_count": 6,
   "id": "e60293be",
   "metadata": {},
   "outputs": [
    {
     "name": "stdout",
     "output_type": "stream",
     "text": [
      "Sum of all elements in given list:  74\n"
     ]
    }
   ],
   "source": [
    "# write a program to sum of elements in a list\n",
    "list1 = [11, 5, 17, 18, 23]\n",
    " \n",
    "# using sum() function\n",
    "total = sum(list1)\n",
    " \n",
    "# printing total value\n",
    "print(\"Sum of all elements in given list: \", total)"
   ]
  },
  {
   "cell_type": "code",
   "execution_count": 7,
   "id": "48711040",
   "metadata": {},
   "outputs": [
    {
     "name": "stdout",
     "output_type": "stream",
     "text": [
      "6\n"
     ]
    }
   ],
   "source": [
    "# write a program to multiply elements in a list\n",
    "def multiplyList(myList) :\n",
    "     \n",
    "    # Multiply elements one by one\n",
    "    result = 1\n",
    "    for x in myList:\n",
    "         result = result * x\n",
    "    return result\n",
    "     \n",
    "# Driver code\n",
    "list1 = [1, 2, 3]\n",
    "\n",
    "print(multiplyList(list1))"
   ]
  },
  {
   "cell_type": "code",
   "execution_count": null,
   "id": "e4de1f29",
   "metadata": {},
   "outputs": [],
   "source": []
  }
 ],
 "metadata": {
  "kernelspec": {
   "display_name": "Python 3",
   "language": "python",
   "name": "python3"
  },
  "language_info": {
   "codemirror_mode": {
    "name": "ipython",
    "version": 3
   },
   "file_extension": ".py",
   "mimetype": "text/x-python",
   "name": "python",
   "nbconvert_exporter": "python",
   "pygments_lexer": "ipython3",
   "version": "3.8.8"
  }
 },
 "nbformat": 4,
 "nbformat_minor": 5
}
