{
 "cells": [
  {
   "cell_type": "code",
   "execution_count": 9,
   "id": "000da407",
   "metadata": {},
   "outputs": [
    {
     "name": "stdout",
     "output_type": "stream",
     "text": [
      "[1505, 1540, 1575, 1610, 1645, 1680, 1715, 1750, 1785, 1820, 1855, 1890, 1925, 1960, 1995, 2030, 2065, 2100, 2135, 2170, 2205, 2240, 2275, 2310, 2345, 2380, 2415, 2450, 2485, 2520, 2555, 2590, 2625, 2660, 2695]\n"
     ]
    }
   ],
   "source": [
    "# 1.\tWrite a Python program to find those numbers which are divisible by 7 and multiple of 5, between 1500 and 2700 (both included).\n",
    "\n",
    "list1=[]\n",
    "for i in range(1500,2701):\n",
    "    if (i%7==0) and (i%5==0):\n",
    "        list1.append(i)\n",
    "print (list1)"
   ]
  },
  {
   "cell_type": "code",
   "execution_count": 2,
   "id": "c68fcd5d",
   "metadata": {},
   "outputs": [
    {
     "name": "stdout",
     "output_type": "stream",
     "text": [
      "enter A:4\n",
      "enter B:5\n",
      "addition: 9\n"
     ]
    }
   ],
   "source": [
    "# 2.\tPython program to add two numbers\n",
    "a=int(input(\"enter A:\"))\n",
    "b=int(input(\"enter B:\"))\n",
    "c=a+b\n",
    "print(f\"addition: {c}\")"
   ]
  },
  {
   "cell_type": "code",
   "execution_count": 4,
   "id": "2f0d08e4",
   "metadata": {},
   "outputs": [
    {
     "name": "stdout",
     "output_type": "stream",
     "text": [
      "enter A:6\n",
      "enter B:3\n",
      "Maximum: 6\n"
     ]
    }
   ],
   "source": [
    "# 3.\tMaximum of two numbers in Python\n",
    "a=int(input(\"enter A:\"))\n",
    "b=int(input(\"enter B:\"))\n",
    "c=max(a,b)\n",
    "print(f\"Maximum: {c}\")"
   ]
  },
  {
   "cell_type": "code",
   "execution_count": 13,
   "id": "6e625adb",
   "metadata": {},
   "outputs": [
    {
     "name": "stdout",
     "output_type": "stream",
     "text": [
      "enter A:5\n",
      "120\n"
     ]
    }
   ],
   "source": [
    "# 4.\tPython Program for factorial of a number\n",
    "a=int(input(\"enter A:\"))\n",
    "fact=1\n",
    "for i in range(1,a+1):\n",
    "    fact=fact*i\n",
    "print(fact)"
   ]
  },
  {
   "cell_type": "code",
   "execution_count": 14,
   "id": "888b00a1",
   "metadata": {},
   "outputs": [
    {
     "name": "stdout",
     "output_type": "stream",
     "text": [
      "enter p:300\n",
      "enter r:1\n",
      "enter t:4\n",
      "S.I: 12.0\n"
     ]
    }
   ],
   "source": [
    "# 5.\tPython Program for simple interest\n",
    "p=int(input(\"enter p:\"))\n",
    "r=int(input(\"enter r:\"))\n",
    "t=int(input(\"enter t:\"))\n",
    "simple_interest=(p*r*t)/100\n",
    "print(f\"S.I: {simple_interest}\")"
   ]
  },
  {
   "cell_type": "code",
   "execution_count": 17,
   "id": "8b914de0",
   "metadata": {},
   "outputs": [
    {
     "name": "stdout",
     "output_type": "stream",
     "text": [
      "enter principle:1200\n",
      "enter rate:5.4\n",
      "enter time:2\n"
     ]
    },
    {
     "data": {
      "text/plain": [
       "1333.0992"
      ]
     },
     "execution_count": 17,
     "metadata": {},
     "output_type": "execute_result"
    }
   ],
   "source": [
    "# 6.\tPython Program for compound interest\n",
    "P=float(input(\"enter principle:\"))\n",
    "r=float(input(\"enter rate:\"))\n",
    "t=int(input(\"enter time:\"))\n",
    "\n",
    "A=P*(1+r/100)**t\n",
    "A"
   ]
  },
  {
   "cell_type": "code",
   "execution_count": 32,
   "id": "4651e44a",
   "metadata": {},
   "outputs": [
    {
     "name": "stdout",
     "output_type": "stream",
     "text": [
      "enter a number:2\n"
     ]
    }
   ],
   "source": [
    "#10. Python program to check whether a number is Prime or not\n",
    "a=int(input(\"enter a number:\"))\n",
    "if a>1:\n",
    "    for i in range(2,int(a/2)+1):\n",
    "        if a%i==0:\n",
    "            print(f\"{a} is not a prime number\")\n",
    "            break\n",
    "        else:\n",
    "            print(f\"{a} is a prime number\")\n",
    "else:\n",
    "    print(f\"{a} is not a prime number\")\n",
    "    "
   ]
  },
  {
   "cell_type": "code",
   "execution_count": 36,
   "id": "f1c6792e",
   "metadata": {},
   "outputs": [
    {
     "name": "stdout",
     "output_type": "stream",
     "text": [
      "307\n",
      "311\n",
      "313\n",
      "317\n",
      "331\n",
      "337\n",
      "347\n",
      "349\n",
      "353\n",
      "359\n",
      "367\n",
      "373\n",
      "379\n",
      "383\n",
      "389\n",
      "397\n",
      "401\n",
      "409\n",
      "419\n",
      "421\n",
      "431\n",
      "433\n",
      "439\n",
      "443\n",
      "449\n",
      "457\n",
      "461\n",
      "463\n",
      "467\n",
      "479\n",
      "487\n",
      "491\n",
      "499\n"
     ]
    }
   ],
   "source": [
    "#9.\tPython program to print all Prime numbers in an Interva\n",
    "upper=500\n",
    "lower=300\n",
    "for a in range(lower, upper+1):\n",
    "    if a>1:\n",
    "        for i in range(2,a):\n",
    "            if a%i==0:\n",
    "                break\n",
    "        else:\n",
    "                print(a)\n",
    "    \n",
    "    \n"
   ]
  },
  {
   "cell_type": "code",
   "execution_count": 2,
   "id": "1771b8a3",
   "metadata": {},
   "outputs": [
    {
     "name": "stdout",
     "output_type": "stream",
     "text": [
      "enter radius:2\n",
      "12.566\n"
     ]
    }
   ],
   "source": [
    "# 8.\tPython Program for Program to find area of a circle\n",
    "PI=3.1415\n",
    "r=int(input(\"enter radius:\"))\n",
    "area_of_cicle=PI*r*r\n",
    "print(area_of_cicle)"
   ]
  },
  {
   "cell_type": "code",
   "execution_count": 7,
   "id": "79a4cc90",
   "metadata": {},
   "outputs": [
    {
     "name": "stdout",
     "output_type": "stream",
     "text": [
      "enter a number:1432\n",
      "enter the digit:4\n",
      "1432 is not an armstrong number\n"
     ]
    }
   ],
   "source": [
    "# 7.\tPython Program to check Armstrong Number\n",
    "num=int(input(\"enter a number:\"))\n",
    "p=int(input(\"enter the digit:\"))\n",
    "sum=0\n",
    "temp=num\n",
    "while temp>0:\n",
    "    a=temp%10\n",
    "    sum=sum+a**p\n",
    "    temp=temp//10\n",
    "if num==sum:\n",
    "    print(num,\"is an armstrong number\")\n",
    "else:\n",
    "    print(num,\"is not an armstrong number\")\n",
    "    \n"
   ]
  },
  {
   "cell_type": "code",
   "execution_count": null,
   "id": "395ffc88",
   "metadata": {},
   "outputs": [],
   "source": []
  },
  {
   "cell_type": "code",
   "execution_count": null,
   "id": "1540e786",
   "metadata": {},
   "outputs": [],
   "source": []
  }
 ],
 "metadata": {
  "kernelspec": {
   "display_name": "Python 3",
   "language": "python",
   "name": "python3"
  },
  "language_info": {
   "codemirror_mode": {
    "name": "ipython",
    "version": 3
   },
   "file_extension": ".py",
   "mimetype": "text/x-python",
   "name": "python",
   "nbconvert_exporter": "python",
   "pygments_lexer": "ipython3",
   "version": "3.8.8"
  }
 },
 "nbformat": 4,
 "nbformat_minor": 5
}
