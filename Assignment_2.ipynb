{
 "cells": [
  {
   "cell_type": "code",
   "execution_count": 15,
   "id": "1a12419c",
   "metadata": {},
   "outputs": [
    {
     "name": "stdout",
     "output_type": "stream",
     "text": [
      "Enter how many numbers needed in Fibonacci series- 6\n",
      "0\n",
      "1\n",
      "1\n",
      "2\n",
      "3\n",
      "5\n"
     ]
    }
   ],
   "source": [
    "# Python Program for n-th Fibonacci number\n",
    "\n",
    "def fibonacci(num):\n",
    "    num1 = 0\n",
    "    num2 = 1\n",
    "    series = 0\n",
    "    for i in range(num):\n",
    "        print(series);\n",
    "        num1 = num2;\n",
    "        num2 = series;\n",
    "        series = num1 + num2;\n",
    " \n",
    " \n",
    "# running function after takking user input\n",
    "num = int(input('Enter how many numbers needed in Fibonacci series- '))\n",
    "fibonacci(num)\n",
    "\n"
   ]
  },
  {
   "cell_type": "code",
   "execution_count": 3,
   "id": "40c46fdf",
   "metadata": {},
   "outputs": [
    {
     "name": "stdout",
     "output_type": "stream",
     "text": [
      "ASCII of A is 65\n"
     ]
    }
   ],
   "source": [
    "# program to print ASCII of a charecter\n",
    "char='A'\n",
    "result=ord(char)\n",
    "print(f\"ASCII of {char} is {result}\" )"
   ]
  },
  {
   "cell_type": "code",
   "execution_count": 9,
   "id": "8b32ff60",
   "metadata": {},
   "outputs": [
    {
     "name": "stdout",
     "output_type": "stream",
     "text": [
      "enter number:3\n",
      "9\n"
     ]
    }
   ],
   "source": [
    "# Program to print cube sum of first natural numbers\n",
    "num=int(input(\"enter number:\"))\n",
    "temp=0\n",
    "for i in range(num):\n",
    "    temp=temp+i**3\n",
    "print(temp)"
   ]
  },
  {
   "cell_type": "code",
   "execution_count": 10,
   "id": "07d2897c",
   "metadata": {},
   "outputs": [
    {
     "name": "stdout",
     "output_type": "stream",
     "text": [
      "enter number:3\n",
      "5\n"
     ]
    }
   ],
   "source": [
    "# Program to print square sum of first natural numbers\n",
    "num=int(input(\"enter number:\"))\n",
    "temp=0\n",
    "for i in range(num):\n",
    "    temp=temp+i**2\n",
    "print(temp)"
   ]
  },
  {
   "cell_type": "code",
   "execution_count": 11,
   "id": "48e4d776",
   "metadata": {},
   "outputs": [
    {
     "name": "stdout",
     "output_type": "stream",
     "text": [
      "15\n"
     ]
    }
   ],
   "source": [
    "# Program to find sum of array\n",
    "import numpy as np\n",
    "a=np.array([1,2,3,4,5])\n",
    "temp=0\n",
    "length=len(a)\n",
    "for i in range(length):\n",
    "    temp=temp+a[i]\n",
    "print(temp)\n"
   ]
  },
  {
   "cell_type": "code",
   "execution_count": 12,
   "id": "47d9faac",
   "metadata": {},
   "outputs": [
    {
     "name": "stdout",
     "output_type": "stream",
     "text": [
      "113\n"
     ]
    }
   ],
   "source": [
    "# Program to find max of array\n",
    "import numpy as np\n",
    "a=np.array([1,2,113,4,55])\n",
    "high=max(a)\n",
    "print(high)\n",
    "\n"
   ]
  },
  {
   "cell_type": "code",
   "execution_count": 13,
   "id": "64c3e623",
   "metadata": {},
   "outputs": [
    {
     "name": "stdout",
     "output_type": "stream",
     "text": [
      "Array after left rotation is:  [3, 4, 5, 6, 7, 1, 2]\n"
     ]
    }
   ],
   "source": [
    "# python program for array rotation\n",
    "def rotateArray(arr, n, d):\n",
    "    temp = []\n",
    "    i = 0\n",
    "    while (i < d):\n",
    "        temp.append(arr[i])\n",
    "        i = i + 1\n",
    "    i = 0\n",
    "    while (d < n):\n",
    "        arr[i] = arr[d]\n",
    "        i = i + 1\n",
    "        d = d + 1\n",
    "    arr[:] = arr[: i] + temp\n",
    "    return arr\n",
    " \n",
    " \n",
    "# Driver function to test above function\n",
    "arr = [1, 2, 3, 4, 5, 6, 7]\n",
    "print(\"Array after left rotation is: \", end=' ')\n",
    "print(rotateArray(arr, len(arr), 2))"
   ]
  },
  {
   "cell_type": "code",
   "execution_count": 14,
   "id": "83068bdc",
   "metadata": {},
   "outputs": [
    {
     "name": "stdout",
     "output_type": "stream",
     "text": [
      "3\n",
      "4\n",
      "5\n",
      "6\n",
      "7\n",
      "1\n",
      "2\n"
     ]
    }
   ],
   "source": [
    "# python program for reverse algorithm for array rotation\n",
    "def rverseArray(arr, start, end):\n",
    "    while (start < end):\n",
    "        temp = arr[start]\n",
    "        arr[start] = arr[end]\n",
    "        arr[end] = temp\n",
    "        start += 1\n",
    "        end = end-1\n",
    "  \n",
    "# Function to left rotate arr[] of size n by d\n",
    "def leftRotate(arr, d):\n",
    "    n = len(arr)\n",
    "    rverseArray(arr, 0, d-1)\n",
    "    rverseArray(arr, d, n-1)\n",
    "    rverseArray(arr, 0, n-1)\n",
    "  \n",
    "# Function to print an array\n",
    "def printArray(arr):\n",
    "    for i in range(0, len(arr)):\n",
    "        print (arr[i])\n",
    "  \n",
    "# Driver function to test above functions\n",
    "arr = [1, 2, 3, 4, 5, 6, 7]\n",
    "leftRotate(arr, 2) # Rotate array by 2\n",
    "printArray(arr)"
   ]
  },
  {
   "cell_type": "code",
   "execution_count": 16,
   "id": "0cc423b6",
   "metadata": {},
   "outputs": [
    {
     "name": "stdout",
     "output_type": "stream",
     "text": [
      "5 6 52 36 12 10 "
     ]
    }
   ],
   "source": [
    "# python program to split the array and add first part to the end\n",
    "def splitArr(arr, n, k): \n",
    "    for i in range(0, k): \n",
    "        x = arr[0]\n",
    "        for j in range(0, n-1):\n",
    "            arr[j] = arr[j + 1]\n",
    "          \n",
    "        arr[n-1] = x\n",
    "          \n",
    "  \n",
    "# main\n",
    "arr = [12, 10, 5, 6, 52, 36]\n",
    "n = len(arr)\n",
    "position = 2\n",
    "  \n",
    "splitArr(arr, n, position)\n",
    "  \n",
    "for i in range(0, n): \n",
    "    print(arr[i], end = ' ')"
   ]
  },
  {
   "cell_type": "code",
   "execution_count": null,
   "id": "377032c5",
   "metadata": {},
   "outputs": [],
   "source": []
  }
 ],
 "metadata": {
  "kernelspec": {
   "display_name": "Python 3",
   "language": "python",
   "name": "python3"
  },
  "language_info": {
   "codemirror_mode": {
    "name": "ipython",
    "version": 3
   },
   "file_extension": ".py",
   "mimetype": "text/x-python",
   "name": "python",
   "nbconvert_exporter": "python",
   "pygments_lexer": "ipython3",
   "version": "3.8.8"
  }
 },
 "nbformat": 4,
 "nbformat_minor": 5
}
